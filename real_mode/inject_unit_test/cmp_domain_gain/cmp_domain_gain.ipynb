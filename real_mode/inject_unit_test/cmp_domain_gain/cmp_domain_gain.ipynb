{
 "cells": [
  {
   "cell_type": "code",
   "execution_count": 3,
   "metadata": {},
   "outputs": [],
   "source": [
    "import numpy as np\n",
    "import pandas as pd\n",
    "import seaborn as sns\n",
    "import matplotlib.pyplot as plt\n",
    "import cvxpy as cp"
   ]
  },
  {
   "cell_type": "code",
   "execution_count": 4,
   "metadata": {},
   "outputs": [],
   "source": [
    "class InjectSimulator:\n",
    "    # Total segments \n",
    "    TOTAL_G = 9258*(10**3)\n",
    "    # Total storage domains\n",
    "    TOTAL_M = 18\n",
    "    # Total sessions \n",
    "    TOTAL_N = 9258\n",
    "    # Total injection, dynamic\n",
    "    TOTAL_C = 345*100\n",
    "\n",
    "    def __init__(self):\n",
    "        self.Nlist = np.array([3775, 3410, 563 ,551, 457, 300,\n",
    "            54, 51, 42, 19, 14, 13,\n",
    "            3, 2, 1, 1, 1, 1]) \n",
    "        self.Glist = self.Nlist * (10**2)\n",
    "\n",
    "    def nothing(self):\n",
    "        # internal gain\n",
    "        Dlist = (self.Glist - self.Nlist * 2) * np.log(1 + 1/self.Nlist)\n",
    "        print('Di: {0}\\nmin Di: {1}'.format(Dlist, min(Dlist)))\n",
    "        with open('nothing.txt', 'w') as fp:\n",
    "            for value in Dlist:\n",
    "                fp.write('{0}\\n'.format(value))\n",
    "\n",
    "    def average(self):\n",
    "        # internal gain\n",
    "        Dlist = (self.Glist - self.Nlist * 2) * np.log(1 + 1/self.Nlist)\n",
    "        # print(Dlist)\n",
    "        Clist = np.array([self.TOTAL_C/self.TOTAL_M] * self.TOTAL_M)\n",
    "        # print(Clist)\n",
    "\n",
    "        Ji_values = Clist * np.log(1 + self.Nlist) + Dlist\n",
    "        print('Ji: {0}\\nmin Ji: {1}'.format(Ji_values, min(Ji_values)))\n",
    "\n",
    "        J_values = np.sum(Ji_values)\n",
    "        print('Jv: {0}\\navg Jv: {1}'.format(J_values, J_values/self.TOTAL_M))\n",
    "\n",
    "        with open('average.txt', 'w') as fp:\n",
    "            for value in Ji_values:\n",
    "                fp.write('{0}\\n'.format(value))\n",
    "\n",
    "    def optim(self, alpha):\n",
    "        # internal gain\n",
    "        Dlist = (self.Glist - self.Nlist * 2) * np.log(1 + 1/self.Nlist)\n",
    "        \n",
    "        # to be solved\n",
    "        Clist = cp.Variable(self.TOTAL_M, integer=True)\n",
    "\n",
    "        # Minimum Ji: Objective function 1\n",
    "        Ji = cp.min(cp.multiply(np.log(1 + self.Nlist), Clist) + Dlist)\n",
    "        \n",
    "        # Maximize Minimum Ji\n",
    "        objective = cp.Maximize(Ji)\n",
    "\n",
    "        constraints = [\n",
    "            cp.sum(Clist) <= self.TOTAL_C,\n",
    "            Clist >= 1]\n",
    "\n",
    "        problem = cp.Problem(objective, constraints)\n",
    "\n",
    "        optimal_value = problem.solve()\n",
    "\n",
    "        epsilon = alpha * optimal_value\n",
    "\n",
    "        # Maximum Jv: Objective function 2\n",
    "        Clist = cp.Variable(self.TOTAL_M, integer=True)\n",
    "\n",
    "        Ji = cp.min(cp.multiply(np.log(1 + self.Nlist), Clist) + Dlist)\n",
    "        J = cp.sum(cp.multiply(np.log(1 + self.Nlist), Clist) + Dlist)\n",
    "\n",
    "        objective = cp.Maximize(J)\n",
    "\n",
    "        constraints = [\n",
    "            Ji >= epsilon,\n",
    "            cp.sum(Clist) <= self.TOTAL_C,\n",
    "            Clist >= 1]\n",
    "\n",
    "        problem = cp.Problem(objective, constraints)\n",
    "\n",
    "        optimal_value = problem.solve()\n",
    "        \n",
    "        # checkout if the optimal status\n",
    "        # print(problem.status)\n",
    "        # print('optimal value: {0}'.format(optimal_value))\n",
    "        print('optimal variables : {0}'.format(Clist.value))\n",
    "\n",
    "        Ji_values = Clist.value * np.log(1 + self.Nlist) + Dlist\n",
    "        print('Ji: {0}\\nmin Ji: {1}'.format(Ji_values, min(Ji_values)))\n",
    "\n",
    "        Jv_values = np.sum(Ji_values)\n",
    "        print('Jv: {0}\\navg Jv: {1}'.format(Jv_values, Jv_values/self.TOTAL_M))\n",
    "\n",
    "        with open('optimal_{}.txt'.format(alpha), 'w') as fp:\n",
    "            for value in Ji_values:\n",
    "                fp.write('{0}\\n'.format(value))"
   ]
  },
  {
   "cell_type": "code",
   "execution_count": 5,
   "metadata": {},
   "outputs": [
    {
     "name": "stdout",
     "output_type": "stream",
     "text": [
      "optimal variables : [7381.  330.  424.  425.  438.  471.  670.  680.  714.  897.  992. 1018.\n",
      " 1945. 2459. 3914. 3914. 3914. 3914.]\n",
      "Ji: [60891.00693391  2782.45669151  2783.97607181  2781.1690979\n",
      "  2781.46163779  2785.88596342  2782.01687594  2783.89732175\n",
      "  2782.34840995  2782.67996353  2781.04401917  2780.97391807\n",
      "  2780.92106168  2780.95877902  2780.90648841  2780.90648841\n",
      "  2780.90648841  2780.90648841]\n",
      "min Ji: 2780.9064884065006\n",
      "Jv: 108184.42269906797\n",
      "avg Jv: 6010.245705503777\n",
      "optimal variables : [5641.  352.  451.  453.  467.  501.  713.  724.  760.  955. 1056. 1084.\n",
      " 2070. 2617. 4164. 4164. 4164. 4164.]\n",
      "Ji: [46559.63521646  2961.42142872  2955.0225366   2957.9484432\n",
      "  2959.14084413  2957.09927136  2954.3322029   2957.75204537\n",
      "  2955.36361527  2956.43243539  2954.35923204  2955.15170183\n",
      "  2954.20785682  2954.53952063  2954.19328355  2954.19328355\n",
      "  2954.19328355  2954.19328355]\n",
      "min Ji: 2954.193283546487\n",
      "Jv: 96809.17948491263\n",
      "avg Jv: 5378.287749161813\n",
      "optimal variables : [3896.  373.  479.  480.  495.  531.  757.  768.  806. 1013. 1121. 1150.\n",
      " 2196. 2775. 4415. 4415. 4415. 4415.]\n",
      "Ji: [32187.08139639  3132.25140515  3132.40405564  3128.41424044\n",
      "  3130.69318129  3128.31257931  3130.65486305  3131.60676898\n",
      "  3128.37882059  3130.18490726  3130.38249512  3129.32948558\n",
      "  3128.88094632  3128.12026224  3128.17322587  3128.17322587\n",
      "  3128.17322587  3128.17322587]\n",
      "min Ji: 3128.120262243205\n",
      "Jv: 85389.38831082938\n",
      "avg Jv: 4743.8549061571875\n",
      "optimal variables : [2152.  394.  506.  508.  523.  562.  800.  812.  853. 1071. 1185. 1216.\n",
      " 2321. 2933. 4666. 4666. 4666. 4666.]\n",
      "Ji: [17822.76399683  3303.08138158  3303.45052043  3305.19358574\n",
      "  3302.24551844  3305.23299751  3302.97019002  3305.4614926\n",
      "  3305.15522603  3303.93737913  3303.69770799  3303.50726934\n",
      "  3302.16774146  3301.70100385  3302.15316819  3302.15316819\n",
      "  3302.15316819  3302.15316819]\n",
      "min Ji: 3301.7010038527665\n",
      "Jv: 73979.17868370112\n",
      "avg Jv: 4109.954371316729\n",
      "Ji: [15884.45969942 15689.61046628 12240.10038455 12198.87826693\n",
      " 11841.05887137 11036.46503616  7777.82558019  7670.26872039\n",
      "  7305.81841575  5837.32830513  5285.08777179  5152.60677162\n",
      "  2741.64272145  2185.14471447  1396.46051977  1396.46051977\n",
      "  1396.46051977  1396.46051977]\n",
      "min Ji: 1396.4605197681033\n",
      "Jv: 128432.13780457058\n",
      "avg Jv: 7135.118766920587\n",
      "Di: [97.98702216 97.98563331 97.91306917 97.91117823 97.89293515 97.83702872\n",
      " 97.10364183 97.05159311 96.85152734 95.50811415 94.65821968 94.41355652\n",
      " 84.5785293  79.47116119 67.92842369 67.92842369 67.92842369 67.92842369]\n",
      "min Di: 67.92842369487464\n"
     ]
    }
   ],
   "source": [
    "def start_simulation():\n",
    "    simu = InjectSimulator()\n",
    "    for alpha in [0.8, 0.85, 0.9, 0.95]:\n",
    "        simu.optim(alpha)\n",
    "    # simu.optim()\n",
    "    simu.average()\n",
    "    simu.nothing()\n",
    "\n",
    "start_simulation()"
   ]
  },
  {
   "cell_type": "code",
   "execution_count": 6,
   "metadata": {},
   "outputs": [
    {
     "data": {
      "image/png": "[encoded data removed]",
      "text/plain": [
       "<Figure size 432x288 with 1 Axes>"
      ]
     },
     "metadata": {},
     "output_type": "display_data"
    }
   ],
   "source": [
    "sns.set_theme(style='ticks', font='Times New Roman', font_scale=1.2)\n",
    "def draw_domain_gain():\n",
    "    paths = ['nothing.txt', 'average.txt', 'optimal_0.8.txt', 'optimal_0.9.txt']\n",
    "    labels = ['None', 'Average', r'$\\alpha$=0.8', r'$\\alpha$=0.9']\n",
    "    data = np.array([np.loadtxt(path) for path in paths])\n",
    "    data = pd.DataFrame(data=data.T, index=range(1, 19), columns=labels)\n",
    "    # plt.figure(figsize=(6, 4))\n",
    "    ax = sns.scatterplot(data=data)\n",
    "    ax.set_xlabel('Domain ID')\n",
    "    ax.set_ylabel('Security gain')\n",
    "    plt.xticks(range(1, 19, 3))\n",
    "    plt.yscale('log')\n",
    "    plt.tight_layout()\n",
    "    plt.savefig('domain_gain.png', format='png', bbox_inches='tight', dpi=300)\n",
    "draw_domain_gain()"
   ]
  },
  {
   "cell_type": "code",
   "execution_count": 7,
   "metadata": {},
   "outputs": [
    {
     "data": {
      "image/png": "[encoded data removed]",
      "text/plain": [
       "<Figure size 432x288 with 1 Axes>"
      ]
     },
     "metadata": {},
     "output_type": "display_data"
    }
   ],
   "source": [
    "def draw_total_gain():\n",
    "    paths = ['nothing.txt', 'average.txt', 'optimal_0.8.txt', 'optimal_0.9.txt']\n",
    "    labels = ['None', 'Average', r'$\\alpha$=0.8', r'$\\alpha$=0.9']\n",
    "    data = np.array([np.sum(np.loadtxt(path)) for path in paths])\n",
    "    data = pd.DataFrame(data=data.reshape(1, len(data)), columns=labels)\n",
    "    ax = sns.barplot(data=data)\n",
    "    ax.set_ylabel('Total security gain')\n",
    "    ax.set_xlabel('Injection mode')\n",
    "    for bar in ax.patches:\n",
    "        x = bar.get_x()\n",
    "        width = bar.get_width()\n",
    "        bar.set_x(x+width/4)\n",
    "        bar.set_width(width/2)\n",
    "    plt.yscale('log')\n",
    "    plt.tight_layout()\n",
    "    plt.savefig('total_gain.png', format='png', bbox_inches='tight', dpi=300)\n",
    "draw_total_gain()"
   ]
  },
  {
   "cell_type": "code",
   "execution_count": 48,
   "metadata": {},
   "outputs": [
    {
     "name": "stdout",
     "output_type": "stream",
     "text": [
      "-57845.09473993676\n"
     ]
    }
   ],
   "source": [
    "def draw_pr(M):\n",
    "    N = 10000\n",
    "    Pr_1 = -N*np.log(N)\n",
    "    Pr_2 = np.log(1-1/M)*(N**2/2)\n",
    "    print(Pr_1-Pr_2)\n",
    "    # sns.lineplot(N, Pr_1-Pr_2)\n",
    "\n",
    "    \n",
    "draw_pr(1460)"
   ]
  },
  {
   "cell_type": "code",
   "execution_count": null,
   "metadata": {},
   "outputs": [],
   "source": []
  }
 ],
 "metadata": {
  "kernelspec": {
   "display_name": "base",
   "language": "python",
   "name": "python3"
  },
  "language_info": {
   "codemirror_mode": {
    "name": "ipython",
    "version": 3
   },
   "file_extension": ".py",
   "mimetype": "text/x-python",
   "name": "python",
   "nbconvert_exporter": "python",
   "pygments_lexer": "ipython3",
   "version": "3.9.7"
  },
  "orig_nbformat": 4
 },
 "nbformat": 4,
 "nbformat_minor": 2
}
